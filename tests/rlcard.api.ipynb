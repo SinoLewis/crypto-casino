{
 "cells": [
  {
   "cell_type": "markdown",
   "metadata": {},
   "source": [
    "# 1. RLCard Installation"
   ]
  },
  {
   "cell_type": "code",
   "execution_count": 7,
   "metadata": {},
   "outputs": [],
   "source": [
    "!pip install rlcard\n",
    "import rlcard\n",
    "from pprint import pprint"
   ]
  },
  {
   "cell_type": "markdown",
   "metadata": {},
   "source": [
    "# 2. Envs API"
   ]
  },
  {
   "cell_type": "markdown",
   "metadata": {},
   "source": [
    "## 2.1 Envs Env object"
   ]
  },
  {
   "cell_type": "code",
   "execution_count": 25,
   "metadata": {},
   "outputs": [
    {
     "name": "stdout",
     "output_type": "stream",
     "text": [
      "{'legal_actions': OrderedDict([(2, None), (3, None)]), 'obs': array([0., 0., 0., 0., 0., 0., 0., 0., 0., 0., 0., 0., 0., 0., 0., 0., 0.,\n",
      "       0., 0., 1., 0., 0., 0., 0., 0., 0., 0., 0., 0., 1., 0., 0., 0., 0.,\n",
      "       0., 0., 0., 0., 0., 0., 0., 0., 0., 0., 0., 0., 0., 0., 0., 0., 0.,\n",
      "       0., 0., 0., 0., 0., 1., 1., 0., 0., 0., 0., 1., 0., 0., 0., 0., 1.,\n",
      "       0., 0., 0., 0.]), 'raw_obs': {'hand': ['D4', 'H7'], 'public_cards': [], 'all_chips': [1, 10, 8], 'my_chips': 1, 'legal_actions': ['fold', 'check'], 'raise_nums': [4, 0, 0, 0]}, 'raw_legal_actions': ['fold', 'check'], 'action_record': [(2, 'raise'), (0, 'fold'), (1, 'raise'), (2, 'raise'), (1, 'raise'), (2, 'fold')]}\n",
      "[(2, 'raise'), (0, 'fold'), (1, 'raise'), (2, 'raise'), (1, 'raise'), (2, 'fold')]\n",
      "{'hand': ['D4', 'H7'], 'public_cards': [], 'all_chips': [1, 10, 8], 'my_chips': 1, 'legal_actions': ['fold', 'check'], 'raise_nums': [4, 0, 0, 0]}\n",
      "[(2, 'raise'), (0, 'fold'), (1, 'raise'), (2, 'raise'), (1, 'raise'), (2, 'fold')]\n"
     ]
    }
   ],
   "source": [
    "import rlcard\n",
    "from rlcard.agents import LimitholdemHumanAgent as HumanAgent\n",
    "from pprint import pprint\n",
    "# import sys\n",
    "# sys.path.append(\"./rlcard/agents/human_agents/\")\n",
    "# from limit_holdem_human_agent import HumanAgent\n",
    "from rlcard.agents import RandomAgent\n",
    "from rlcard.utils.utils import print_card\n",
    "\n",
    "# Make environment\n",
    "env = rlcard.make('limit-holdem', config={'game_num_players' : 3})\n",
    "human_agent = HumanAgent(env.num_actions)\n",
    "human_agent2 = HumanAgent(env.num_actions)\n",
    "human_agent3 = HumanAgent(env.num_actions)\n",
    "agent_0 = RandomAgent(num_actions=env.num_actions)\n",
    "agent_1 = RandomAgent(num_actions=env.num_actions)\n",
    "agent_2 = RandomAgent(num_actions=env.num_actions)\n",
    "env.set_agents([\n",
    "    # human_agent,\n",
    "    # human_agent2,\n",
    "    # human_agent3,\n",
    "    agent_0,\n",
    "    agent_1,\n",
    "    agent_2\n",
    "])\n",
    "\n",
    "trajectories, payoffs = env.run(is_training=False)\n",
    "if len(trajectories[0]) != 0:\n",
    "    # Print out the trajectories\n",
    "    final_state = trajectories[0][-1]\n",
    "    print(final_state)\n",
    "    action_record = final_state['action_record']\n",
    "    print(action_record)\n",
    "    state = final_state['raw_obs']\n",
    "    print(state)\n",
    "    _action_list = []\n",
    "    for i in range(1, len(action_record)+1):\n",
    "        \"\"\"\n",
    "        if action_record[-i][0] == state['current_player']:\n",
    "            break\n",
    "        \"\"\"\n",
    "        _action_list.insert(0, action_record[-i])\n",
    "    print(_action_list)\n",
    "    # print('\\nTrajectories:')\n",
    "    # print(trajectories[0][0])\n",
    "    # print('\\nTrajectories 2:')\n",
    "    # print(trajectories[0])\n",
    "    # print('\\nSample raw observation:')\n",
    "    # pprint(trajectories[0][0]['raw_obs'])\n",
    "    # print('\\nSample raw legal_actions:')\n",
    "    # pprint(trajectories[0][0]['raw_legal_actions'])\n",
    "    # pprint(dir(trajectories))\n"
   ]
  },
  {
   "cell_type": "markdown",
   "metadata": {},
   "source": [
    "## 2.2 Get Game from env"
   ]
  },
  {
   "cell_type": "code",
   "execution_count": 12,
   "metadata": {},
   "outputs": [
    {
     "name": "stdout",
     "output_type": "stream",
     "text": [
      "['__class__',\n",
      " '__delattr__',\n",
      " '__dict__',\n",
      " '__dir__',\n",
      " '__doc__',\n",
      " '__eq__',\n",
      " '__format__',\n",
      " '__ge__',\n",
      " '__getattribute__',\n",
      " '__gt__',\n",
      " '__hash__',\n",
      " '__init__',\n",
      " '__init_subclass__',\n",
      " '__le__',\n",
      " '__lt__',\n",
      " '__module__',\n",
      " '__ne__',\n",
      " '__new__',\n",
      " '__reduce__',\n",
      " '__reduce_ex__',\n",
      " '__repr__',\n",
      " '__setattr__',\n",
      " '__sizeof__',\n",
      " '__str__',\n",
      " '__subclasshook__',\n",
      " '__weakref__',\n",
      " 'allow_step_back',\n",
      " 'allowed_raise_num',\n",
      " 'big_blind',\n",
      " 'configure',\n",
      " 'dealer',\n",
      " 'game_pointer',\n",
      " 'get_legal_actions',\n",
      " 'get_num_actions',\n",
      " 'get_num_players',\n",
      " 'get_payoffs',\n",
      " 'get_player_id',\n",
      " 'get_state',\n",
      " 'history',\n",
      " 'history_raise_nums',\n",
      " 'history_raises_nums',\n",
      " 'init_game',\n",
      " 'is_over',\n",
      " 'judger',\n",
      " 'np_random',\n",
      " 'num_players',\n",
      " 'players',\n",
      " 'public_cards',\n",
      " 'raise_amount',\n",
      " 'round',\n",
      " 'round_counter',\n",
      " 'small_blind',\n",
      " 'step',\n",
      " 'step_back']\n"
     ]
    }
   ],
   "source": [
    "pprint(dir(env.game))"
   ]
  },
  {
   "cell_type": "markdown",
   "metadata": {},
   "source": [
    "## 2.3 Enumerate Game object as Env API"
   ]
  },
  {
   "cell_type": "code",
   "execution_count": 1,
   "metadata": {},
   "outputs": [
    {
     "name": "stdout",
     "output_type": "stream",
     "text": [
      "{'allow_step_back': False,\n",
      " 'allowed_raise_num': 4,\n",
      " 'big_blind': 2,\n",
      " 'dealer': <rlcard.games.limitholdem.dealer.LimitHoldemDealer object at 0x7f4ffd9c6c90>,\n",
      " 'game_pointer': 1,\n",
      " 'history': [],\n",
      " 'history_raise_nums': [0, 0, 0, 0],\n",
      " 'history_raises_nums': None,\n",
      " 'judger': <rlcard.games.limitholdem.judger.LimitHoldemJudger object at 0x7f4ffc1ae310>,\n",
      " 'np_random': RandomState(MT19937) at 0x7F4FFC184940,\n",
      " 'num_players': 2,\n",
      " 'players': [<rlcard.games.limitholdem.player.LimitHoldemPlayer object at 0x7f5017925110>,\n",
      "             <rlcard.games.limitholdem.player.LimitHoldemPlayer object at 0x7f4ffdf31710>],\n",
      " 'public_cards': [],\n",
      " 'raise_amount': 2,\n",
      " 'round': <rlcard.games.limitholdem.round.LimitHoldemRound object at 0x7f4ffc1ae390>,\n",
      " 'round_counter': 0,\n",
      " 'small_blind': 1}\n",
      "mappingproxy({'__dict__': <attribute '__dict__' of 'LimitHoldemGame' objects>,\n",
      "              '__doc__': None,\n",
      "              '__init__': <function LimitHoldemGame.__init__ at 0x7f4ffc5e68e0>,\n",
      "              '__module__': 'rlcard.games.limitholdem.game',\n",
      "              '__weakref__': <attribute '__weakref__' of 'LimitHoldemGame' objects>,\n",
      "              'configure': <function LimitHoldemGame.configure at 0x7f4ffc5e6980>,\n",
      "              'get_legal_actions': <function LimitHoldemGame.get_legal_actions at 0x7f4ffc5e6fc0>,\n",
      "              'get_num_actions': <staticmethod(<function LimitHoldemGame.get_num_actions at 0x7f4ffc5e6ca0>)>,\n",
      "              'get_num_players': <function LimitHoldemGame.get_num_players at 0x7f4ffc5e6c00>,\n",
      "              'get_payoffs': <function LimitHoldemGame.get_payoffs at 0x7f4ffc5e6f20>,\n",
      "              'get_player_id': <function LimitHoldemGame.get_player_id at 0x7f4ffc5e6d40>,\n",
      "              'get_state': <function LimitHoldemGame.get_state at 0x7f4ffc5e6de0>,\n",
      "              'init_game': <function LimitHoldemGame.init_game at 0x7f4ffc5e6a20>,\n",
      "              'is_over': <function LimitHoldemGame.is_over at 0x7f4ffc5e6e80>,\n",
      "              'step': <function LimitHoldemGame.step at 0x7f4ffc5e6ac0>,\n",
      "              'step_back': <function LimitHoldemGame.step_back at 0x7f4ffc5e6b60>})\n"
     ]
    }
   ],
   "source": [
    "from rlcard.games.limitholdem.game import LimitHoldemGame as Game\n",
    "from rlcard.games.limitholdem.player import LimitHoldemPlayer as Player\n",
    "from pprint import pprint\n",
    "import numpy as np\n",
    "\n",
    "game = Game()\n",
    "game.configure({'game_num_players' : 2})\n",
    "state, current_player = game.init_game()\n",
    "pprint(game.__dict__)\n",
    "pprint(Game.__dict__)\n",
    "# print(state)\n",
    "# print(current_player)\n",
    "# pprint(dir(game.players[0]))\n",
    "\n",
    "# print(game.get_player_id())\n",
    "# print(game.get_state(current_player))\n",
    "# print(game.get_legal_actions())\n",
    "# print(game.get_num_actions())\n",
    "# print(game.get_num_players())\n",
    "# print(game.get_player_id())\n",
    "# print(game.is_over())\n",
    "\n",
    "# print(game.get_payoffs())\n",
    "# print(game.step())\n",
    "# print(game.step_back())\n",
    "\n",
    "# player = Player(1, np.random.RandomState())\n",
    "# print(player.player_id)\n",
    "# print(dir(player))"
   ]
  },
  {
   "cell_type": "code",
   "execution_count": 7,
   "metadata": {},
   "outputs": [
    {
     "name": "stdout",
     "output_type": "stream",
     "text": [
      "{'hand': ['H8', 'S6'], 'public_cards': ['C6', 'H4', 'C8'], 'all_chips': [2, 2], 'my_chips': 2, 'legal_actions': ['raise', 'fold', 'check'], 'raise_nums': [0, 0, 0, 0]}\n",
      "({'hand': ['H8', 'S6'], 'public_cards': ['C6', 'H4', 'C8', 'S4'], 'all_chips': [2, 2], 'my_chips': 2, 'legal_actions': ['raise', 'fold', 'check'], 'raise_nums': [0, 0, 0, 0]}, 0)\n",
      "({'hand': ['S3', 'SA'], 'public_cards': ['C6', 'H4', 'C8', 'S4'], 'all_chips': [2, 2], 'my_chips': 2, 'legal_actions': ['raise', 'fold', 'check'], 'raise_nums': [0, 0, 0, 0]}, 1)\n",
      "{'hand': ['H8', 'S6'], 'public_cards': ['C6', 'H4', 'C8', 'S4'], 'all_chips': [2, 2], 'my_chips': 2, 'legal_actions': ['raise', 'fold', 'check'], 'raise_nums': [0, 0, 0, 0]}\n",
      "['ALIVE',\n",
      " 'ALLIN',\n",
      " 'FOLDED',\n",
      " '__class__',\n",
      " '__doc__',\n",
      " '__eq__',\n",
      " '__hash__',\n",
      " '__module__',\n",
      " 'name',\n",
      " 'value']\n"
     ]
    }
   ],
   "source": [
    "import numpy as np\n",
    "from rlcard.games.limitholdem.player import LimitHoldemPlayer as Player\n",
    "\n",
    "player = game.players[current_player]\n",
    "# print(game.step('call'))\n",
    "# print(game.step('call'))\n",
    "print(game.get_state(current_player))\n",
    "print(game.step('check'))\n",
    "print(game.step('check'))\n",
    "print(game.get_state(current_player))\n",
    "# player2 = Player(current_player, player.np_random)\n",
    "pprint(dir(player.status))\n",
    "# print(player(current_player, np.random.RandomState()))\n",
    "# pprint(dir(game.players[0]))"
   ]
  },
  {
   "cell_type": "code",
   "execution_count": 52,
   "metadata": {},
   "outputs": [
    {
     "name": "stdout",
     "output_type": "stream",
     "text": [
      "┌─────────┐\n",
      "│6        │\n",
      "│         │\n",
      "│         │\n",
      "│    ♥    │\n",
      "│         │\n",
      "│         │\n",
      "│        6│\n",
      "└─────────┘\n",
      "6H\n",
      "{'hand': ['C5', 'HJ'], 'public_cards': ['D8', 'HA', 'H7'], 'all_chips': [2, 2], 'my_chips': 2, 'legal_actions': ['raise', 'fold', 'check'], 'raise_nums': [0, 0, 0, 0]}\n"
     ]
    }
   ],
   "source": [
    "from rlcard.utils.utils import print_card, elegent_form\n",
    "\n",
    "flop = game.dealer.deal_card()\n",
    "# elegent_card = elegent_form(flop)\n",
    "print_card([flop])\n",
    "print(flop)\n",
    "print(game.get_state(current_player))\n",
    "# pprint(dir(game.dealer))"
   ]
  },
  {
   "cell_type": "code",
   "execution_count": 5,
   "metadata": {},
   "outputs": [
    {
     "name": "stdout",
     "output_type": "stream",
     "text": [
      "['__class__',\n",
      " '__delattr__',\n",
      " '__dict__',\n",
      " '__dir__',\n",
      " '__doc__',\n",
      " '__eq__',\n",
      " '__format__',\n",
      " '__ge__',\n",
      " '__getattribute__',\n",
      " '__gt__',\n",
      " '__hash__',\n",
      " '__init__',\n",
      " '__init_subclass__',\n",
      " '__le__',\n",
      " '__lt__',\n",
      " '__module__',\n",
      " '__ne__',\n",
      " '__new__',\n",
      " '__reduce__',\n",
      " '__reduce_ex__',\n",
      " '__repr__',\n",
      " '__setattr__',\n",
      " '__sizeof__',\n",
      " '__str__',\n",
      " '__subclasshook__',\n",
      " '__weakref__',\n",
      " 'judge_game',\n",
      " 'np_random',\n",
      " 'split_pot_among_players',\n",
      " 'split_pots_among_players']\n"
     ]
    }
   ],
   "source": [
    "pprint(dir(game.judger))"
   ]
  },
  {
   "cell_type": "code",
   "execution_count": 6,
   "metadata": {},
   "outputs": [
    {
     "name": "stdout",
     "output_type": "stream",
     "text": [
      "['__class__',\n",
      " '__delattr__',\n",
      " '__dict__',\n",
      " '__dir__',\n",
      " '__doc__',\n",
      " '__eq__',\n",
      " '__format__',\n",
      " '__ge__',\n",
      " '__getattribute__',\n",
      " '__gt__',\n",
      " '__hash__',\n",
      " '__init__',\n",
      " '__init_subclass__',\n",
      " '__le__',\n",
      " '__lt__',\n",
      " '__module__',\n",
      " '__ne__',\n",
      " '__new__',\n",
      " '__reduce__',\n",
      " '__reduce_ex__',\n",
      " '__repr__',\n",
      " '__setattr__',\n",
      " '__sizeof__',\n",
      " '__str__',\n",
      " '__subclasshook__',\n",
      " '__weakref__',\n",
      " 'allowed_raise_num',\n",
      " 'game_pointer',\n",
      " 'get_legal_actions',\n",
      " 'have_raised',\n",
      " 'is_over',\n",
      " 'not_raise_num',\n",
      " 'np_random',\n",
      " 'num_players',\n",
      " 'player_folded',\n",
      " 'proceed_round',\n",
      " 'raise_amount',\n",
      " 'raised',\n",
      " 'start_new_round']\n"
     ]
    }
   ],
   "source": [
    "pprint(dir(game.round))"
   ]
  },
  {
   "cell_type": "code",
   "execution_count": 4,
   "metadata": {},
   "outputs": [
    {
     "name": "stdout",
     "output_type": "stream",
     "text": [
      "['__class__',\n",
      " '__delattr__',\n",
      " '__dict__',\n",
      " '__dir__',\n",
      " '__doc__',\n",
      " '__eq__',\n",
      " '__format__',\n",
      " '__ge__',\n",
      " '__getattribute__',\n",
      " '__gt__',\n",
      " '__hash__',\n",
      " '__init__',\n",
      " '__init_subclass__',\n",
      " '__le__',\n",
      " '__lt__',\n",
      " '__module__',\n",
      " '__ne__',\n",
      " '__new__',\n",
      " '__reduce__',\n",
      " '__reduce_ex__',\n",
      " '__repr__',\n",
      " '__setattr__',\n",
      " '__sizeof__',\n",
      " '__str__',\n",
      " '__subclasshook__',\n",
      " '__weakref__',\n",
      " '_decode_action',\n",
      " '_extract_state',\n",
      " '_get_legal_actions',\n",
      " 'action_recorder',\n",
      " 'action_shape',\n",
      " 'actions',\n",
      " 'allow_step_back',\n",
      " 'card2index',\n",
      " 'default_game_config',\n",
      " 'game',\n",
      " 'get_action_feature',\n",
      " 'get_payoffs',\n",
      " 'get_perfect_information',\n",
      " 'get_player_id',\n",
      " 'get_state',\n",
      " 'is_over',\n",
      " 'name',\n",
      " 'np_random',\n",
      " 'num_actions',\n",
      " 'num_players',\n",
      " 'reset',\n",
      " 'run',\n",
      " 'seed',\n",
      " 'set_agents',\n",
      " 'state_shape',\n",
      " 'step',\n",
      " 'step_back',\n",
      " 'timestep']\n"
     ]
    }
   ],
   "source": [
    "import rlcard\n",
    "\n",
    "env = rlcard.make('limit-holdem')\n",
    "pprint(dir(env))"
   ]
  },
  {
   "cell_type": "code",
   "execution_count": 5,
   "metadata": {},
   "outputs": [
    {
     "name": "stdout",
     "output_type": "stream",
     "text": [
      "['__abs__',\n",
      " '__add__',\n",
      " '__and__',\n",
      " '__bool__',\n",
      " '__ceil__',\n",
      " '__class__',\n",
      " '__delattr__',\n",
      " '__dir__',\n",
      " '__divmod__',\n",
      " '__doc__',\n",
      " '__eq__',\n",
      " '__float__',\n",
      " '__floor__',\n",
      " '__floordiv__',\n",
      " '__format__',\n",
      " '__ge__',\n",
      " '__getattribute__',\n",
      " '__getnewargs__',\n",
      " '__gt__',\n",
      " '__hash__',\n",
      " '__index__',\n",
      " '__init__',\n",
      " '__init_subclass__',\n",
      " '__int__',\n",
      " '__invert__',\n",
      " '__le__',\n",
      " '__lshift__',\n",
      " '__lt__',\n",
      " '__mod__',\n",
      " '__mul__',\n",
      " '__ne__',\n",
      " '__neg__',\n",
      " '__new__',\n",
      " '__or__',\n",
      " '__pos__',\n",
      " '__pow__',\n",
      " '__radd__',\n",
      " '__rand__',\n",
      " '__rdivmod__',\n",
      " '__reduce__',\n",
      " '__reduce_ex__',\n",
      " '__repr__',\n",
      " '__rfloordiv__',\n",
      " '__rlshift__',\n",
      " '__rmod__',\n",
      " '__rmul__',\n",
      " '__ror__',\n",
      " '__round__',\n",
      " '__rpow__',\n",
      " '__rrshift__',\n",
      " '__rshift__',\n",
      " '__rsub__',\n",
      " '__rtruediv__',\n",
      " '__rxor__',\n",
      " '__setattr__',\n",
      " '__sizeof__',\n",
      " '__str__',\n",
      " '__sub__',\n",
      " '__subclasshook__',\n",
      " '__truediv__',\n",
      " '__trunc__',\n",
      " '__xor__',\n",
      " 'as_integer_ratio',\n",
      " 'bit_count',\n",
      " 'bit_length',\n",
      " 'conjugate',\n",
      " 'denominator',\n",
      " 'from_bytes',\n",
      " 'imag',\n",
      " 'numerator',\n",
      " 'real',\n",
      " 'to_bytes']\n"
     ]
    }
   ],
   "source": [
    "import rlcard\n",
    "\n",
    "env = rlcard.make('limit-holdem')\n",
    "pprint(dir(env.timestep))"
   ]
  },
  {
   "cell_type": "code",
   "execution_count": 4,
   "metadata": {},
   "outputs": [
    {
     "name": "stdout",
     "output_type": "stream",
     "text": [
      "['__builtins__',\n",
      " '__cached__',\n",
      " '__doc__',\n",
      " '__file__',\n",
      " '__loader__',\n",
      " '__name__',\n",
      " '__package__',\n",
      " '__path__',\n",
      " '__spec__',\n",
      " 'base',\n",
      " 'blackjack',\n",
      " 'bridge',\n",
      " 'leducholdem',\n",
      " 'limitholdem',\n",
      " 'mahjong',\n",
      " 'nolimitholdem',\n",
      " 'uno']\n"
     ]
    }
   ],
   "source": [
    "from rlcard.utils.utils import print_card, get_device\n",
    "from pprint import pprint\n",
    "from rlcard import utils\n",
    "import rlcard\n",
    "pprint(dir(rlcard.games))\n",
    "#get_device()"
   ]
  }
 ],
 "metadata": {
  "kernelspec": {
   "display_name": "Python 3",
   "language": "python",
   "name": "python3"
  },
  "language_info": {
   "codemirror_mode": {
    "name": "ipython",
    "version": 3
   },
   "file_extension": ".py",
   "mimetype": "text/x-python",
   "name": "python",
   "nbconvert_exporter": "python",
   "pygments_lexer": "ipython3",
   "version": "3.11.6"
  }
 },
 "nbformat": 4,
 "nbformat_minor": 2
}
